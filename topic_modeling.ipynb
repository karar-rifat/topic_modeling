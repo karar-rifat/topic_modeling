{
 "cells": [
  {
   "cell_type": "code",
   "execution_count": 1,
   "id": "initial_id",
   "metadata": {
    "collapsed": true,
    "ExecuteTime": {
     "end_time": "2023-08-06T18:50:37.286476700Z",
     "start_time": "2023-08-06T18:43:26.577961800Z"
    }
   },
   "outputs": [
    {
     "name": "stdout",
     "output_type": "stream",
     "text": [
      "Collecting absl-py\n",
      "  Using cached absl_py-1.4.0-py3-none-any.whl (126 kB)\n",
      "Installing collected packages: absl-py\n",
      "Successfully installed absl-py-1.4.0\n",
      "Collecting tensorflow\n",
      "  Obtaining dependency information for tensorflow from https://files.pythonhosted.org/packages/1b/66/2f47c39cfedb29188d82555d0184a619a0bf8234fd5e5301940efb0aa464/tensorflow-2.13.0-cp39-cp39-win_amd64.whl.metadata\n",
      "  Using cached tensorflow-2.13.0-cp39-cp39-win_amd64.whl.metadata (2.6 kB)\n",
      "Collecting tensorflow-intel==2.13.0 (from tensorflow)\n",
      "  Obtaining dependency information for tensorflow-intel==2.13.0 from https://files.pythonhosted.org/packages/2b/ad/d3a2e335004d178e0599cf8aff6c2a92cd21eb9789358fb8f3f951009930/tensorflow_intel-2.13.0-cp39-cp39-win_amd64.whl.metadata\n",
      "  Using cached tensorflow_intel-2.13.0-cp39-cp39-win_amd64.whl.metadata (4.1 kB)\n",
      "Requirement already satisfied: absl-py>=1.0.0 in c:\\users\\karar\\anaconda3\\envs\\tm_p39\\lib\\site-packages (from tensorflow-intel==2.13.0->tensorflow) (1.4.0)\n",
      "Collecting astunparse>=1.6.0 (from tensorflow-intel==2.13.0->tensorflow)\n",
      "  Using cached astunparse-1.6.3-py2.py3-none-any.whl (12 kB)\n",
      "Collecting flatbuffers>=23.1.21 (from tensorflow-intel==2.13.0->tensorflow)\n",
      "  Obtaining dependency information for flatbuffers>=23.1.21 from https://files.pythonhosted.org/packages/6f/12/d5c79ee252793ffe845d58a913197bfa02ae9a0b5c9bc3dc4b58d477b9e7/flatbuffers-23.5.26-py2.py3-none-any.whl.metadata\n",
      "  Using cached flatbuffers-23.5.26-py2.py3-none-any.whl.metadata (850 bytes)\n",
      "Collecting gast<=0.4.0,>=0.2.1 (from tensorflow-intel==2.13.0->tensorflow)\n",
      "  Using cached gast-0.4.0-py3-none-any.whl (9.8 kB)\n",
      "Collecting google-pasta>=0.1.1 (from tensorflow-intel==2.13.0->tensorflow)\n",
      "  Using cached google_pasta-0.2.0-py3-none-any.whl (57 kB)\n",
      "Collecting h5py>=2.9.0 (from tensorflow-intel==2.13.0->tensorflow)\n",
      "  Obtaining dependency information for h5py>=2.9.0 from https://files.pythonhosted.org/packages/a0/62/9790f98aa125a035cda91be7a41a46bdc76b26ffdd2ad2d3c5b7f7232946/h5py-3.9.0-cp39-cp39-win_amd64.whl.metadata\n",
      "  Using cached h5py-3.9.0-cp39-cp39-win_amd64.whl.metadata (2.5 kB)\n",
      "Collecting libclang>=13.0.0 (from tensorflow-intel==2.13.0->tensorflow)\n",
      "  Obtaining dependency information for libclang>=13.0.0 from https://files.pythonhosted.org/packages/02/8c/dc970bc00867fe290e8c8a7befa1635af716a9ebdfe3fb9dce0ca4b522ce/libclang-16.0.6-py2.py3-none-win_amd64.whl.metadata\n",
      "  Using cached libclang-16.0.6-py2.py3-none-win_amd64.whl.metadata (5.3 kB)\n",
      "Collecting numpy<=1.24.3,>=1.22 (from tensorflow-intel==2.13.0->tensorflow)\n",
      "  Using cached numpy-1.24.3-cp39-cp39-win_amd64.whl (14.9 MB)\n",
      "Collecting opt-einsum>=2.3.2 (from tensorflow-intel==2.13.0->tensorflow)\n",
      "  Using cached opt_einsum-3.3.0-py3-none-any.whl (65 kB)\n",
      "Requirement already satisfied: packaging in c:\\users\\karar\\anaconda3\\envs\\tm_p39\\lib\\site-packages (from tensorflow-intel==2.13.0->tensorflow) (23.0)\n",
      "Collecting protobuf!=4.21.0,!=4.21.1,!=4.21.2,!=4.21.3,!=4.21.4,!=4.21.5,<5.0.0dev,>=3.20.3 (from tensorflow-intel==2.13.0->tensorflow)\n",
      "  Obtaining dependency information for protobuf!=4.21.0,!=4.21.1,!=4.21.2,!=4.21.3,!=4.21.4,!=4.21.5,<5.0.0dev,>=3.20.3 from https://files.pythonhosted.org/packages/99/7b/1085be78abfb2b5f6467ccb316d6bbde59633e8f889c5ba605ebfd0a6ef8/protobuf-4.23.4-cp39-cp39-win_amd64.whl.metadata\n",
      "  Using cached protobuf-4.23.4-cp39-cp39-win_amd64.whl.metadata (540 bytes)\n",
      "Requirement already satisfied: setuptools in c:\\users\\karar\\anaconda3\\envs\\tm_p39\\lib\\site-packages (from tensorflow-intel==2.13.0->tensorflow) (68.0.0)\n",
      "Requirement already satisfied: six>=1.12.0 in c:\\users\\karar\\anaconda3\\envs\\tm_p39\\lib\\site-packages (from tensorflow-intel==2.13.0->tensorflow) (1.16.0)\n",
      "Collecting termcolor>=1.1.0 (from tensorflow-intel==2.13.0->tensorflow)\n",
      "  Using cached termcolor-2.3.0-py3-none-any.whl (6.9 kB)\n",
      "Collecting typing-extensions<4.6.0,>=3.6.6 (from tensorflow-intel==2.13.0->tensorflow)\n",
      "  Using cached typing_extensions-4.5.0-py3-none-any.whl (27 kB)\n",
      "Collecting wrapt>=1.11.0 (from tensorflow-intel==2.13.0->tensorflow)\n",
      "  Using cached wrapt-1.15.0-cp39-cp39-win_amd64.whl (36 kB)\n",
      "Collecting grpcio<2.0,>=1.24.3 (from tensorflow-intel==2.13.0->tensorflow)\n",
      "  Obtaining dependency information for grpcio<2.0,>=1.24.3 from https://files.pythonhosted.org/packages/ae/db/95f02013559bb354ac51dc0f4f302f71d42d0e03ac86b50001233ed07533/grpcio-1.56.2-cp39-cp39-win_amd64.whl.metadata\n",
      "  Using cached grpcio-1.56.2-cp39-cp39-win_amd64.whl.metadata (4.1 kB)\n",
      "Collecting tensorboard<2.14,>=2.13 (from tensorflow-intel==2.13.0->tensorflow)\n",
      "  Using cached tensorboard-2.13.0-py3-none-any.whl (5.6 MB)\n",
      "Collecting tensorflow-estimator<2.14,>=2.13.0 (from tensorflow-intel==2.13.0->tensorflow)\n",
      "  Obtaining dependency information for tensorflow-estimator<2.14,>=2.13.0 from https://files.pythonhosted.org/packages/72/5c/c318268d96791c6222ad7df1651bbd1b2409139afeb6f468c0f327177016/tensorflow_estimator-2.13.0-py2.py3-none-any.whl.metadata\n",
      "  Using cached tensorflow_estimator-2.13.0-py2.py3-none-any.whl.metadata (1.3 kB)\n",
      "Collecting keras<2.14,>=2.13.1 (from tensorflow-intel==2.13.0->tensorflow)\n",
      "  Obtaining dependency information for keras<2.14,>=2.13.1 from https://files.pythonhosted.org/packages/2e/f3/19da7511b45e80216cbbd9467137b2d28919c58ba1ccb971435cb631e470/keras-2.13.1-py3-none-any.whl.metadata\n",
      "  Using cached keras-2.13.1-py3-none-any.whl.metadata (2.4 kB)\n",
      "Collecting tensorflow-io-gcs-filesystem>=0.23.1 (from tensorflow-intel==2.13.0->tensorflow)\n",
      "  Using cached tensorflow_io_gcs_filesystem-0.31.0-cp39-cp39-win_amd64.whl (1.5 MB)\n",
      "Requirement already satisfied: wheel<1.0,>=0.23.0 in c:\\users\\karar\\anaconda3\\envs\\tm_p39\\lib\\site-packages (from astunparse>=1.6.0->tensorflow-intel==2.13.0->tensorflow) (0.38.4)\n",
      "Collecting google-auth<3,>=1.6.3 (from tensorboard<2.14,>=2.13->tensorflow-intel==2.13.0->tensorflow)\n",
      "  Obtaining dependency information for google-auth<3,>=1.6.3 from https://files.pythonhosted.org/packages/9c/8d/bff87fc722553a5691d8514da5523c23547f3894189ba03b57592e37bdc2/google_auth-2.22.0-py2.py3-none-any.whl.metadata\n",
      "  Using cached google_auth-2.22.0-py2.py3-none-any.whl.metadata (4.2 kB)\n",
      "Collecting google-auth-oauthlib<1.1,>=0.5 (from tensorboard<2.14,>=2.13->tensorflow-intel==2.13.0->tensorflow)\n",
      "  Using cached google_auth_oauthlib-1.0.0-py2.py3-none-any.whl (18 kB)\n",
      "Collecting markdown>=2.6.8 (from tensorboard<2.14,>=2.13->tensorflow-intel==2.13.0->tensorflow)\n",
      "  Obtaining dependency information for markdown>=2.6.8 from https://files.pythonhosted.org/packages/1a/b5/228c1cdcfe138f1a8e01ab1b54284c8b83735476cb22b6ba251656ed13ad/Markdown-3.4.4-py3-none-any.whl.metadata\n",
      "  Using cached Markdown-3.4.4-py3-none-any.whl.metadata (6.9 kB)\n",
      "Requirement already satisfied: requests<3,>=2.21.0 in c:\\users\\karar\\anaconda3\\envs\\tm_p39\\lib\\site-packages (from tensorboard<2.14,>=2.13->tensorflow-intel==2.13.0->tensorflow) (2.31.0)\n",
      "Collecting tensorboard-data-server<0.8.0,>=0.7.0 (from tensorboard<2.14,>=2.13->tensorflow-intel==2.13.0->tensorflow)\n",
      "  Obtaining dependency information for tensorboard-data-server<0.8.0,>=0.7.0 from https://files.pythonhosted.org/packages/da/61/6e9ff8258422d287eec718872fb71e05324356722ab658c8afda25f51539/tensorboard_data_server-0.7.1-py3-none-any.whl.metadata\n",
      "  Using cached tensorboard_data_server-0.7.1-py3-none-any.whl.metadata (1.1 kB)\n",
      "Collecting werkzeug>=1.0.1 (from tensorboard<2.14,>=2.13->tensorflow-intel==2.13.0->tensorflow)\n",
      "  Obtaining dependency information for werkzeug>=1.0.1 from https://files.pythonhosted.org/packages/ba/d6/8040faecaba2feb84e1647af174b3243c9b90c163c7ea407820839931efe/Werkzeug-2.3.6-py3-none-any.whl.metadata\n",
      "  Using cached Werkzeug-2.3.6-py3-none-any.whl.metadata (4.1 kB)\n",
      "Collecting cachetools<6.0,>=2.0.0 (from google-auth<3,>=1.6.3->tensorboard<2.14,>=2.13->tensorflow-intel==2.13.0->tensorflow)\n",
      "  Obtaining dependency information for cachetools<6.0,>=2.0.0 from https://files.pythonhosted.org/packages/a9/c9/c8a7710f2cedcb1db9224fdd4d8307c9e48cbddc46c18b515fefc0f1abbe/cachetools-5.3.1-py3-none-any.whl.metadata\n",
      "  Using cached cachetools-5.3.1-py3-none-any.whl.metadata (5.2 kB)\n",
      "Collecting pyasn1-modules>=0.2.1 (from google-auth<3,>=1.6.3->tensorboard<2.14,>=2.13->tensorflow-intel==2.13.0->tensorflow)\n",
      "  Using cached pyasn1_modules-0.3.0-py2.py3-none-any.whl (181 kB)\n",
      "Collecting rsa<5,>=3.1.4 (from google-auth<3,>=1.6.3->tensorboard<2.14,>=2.13->tensorflow-intel==2.13.0->tensorflow)\n",
      "  Using cached rsa-4.9-py3-none-any.whl (34 kB)\n",
      "Requirement already satisfied: urllib3<2.0 in c:\\users\\karar\\anaconda3\\envs\\tm_p39\\lib\\site-packages (from google-auth<3,>=1.6.3->tensorboard<2.14,>=2.13->tensorflow-intel==2.13.0->tensorflow) (1.26.16)\n",
      "Collecting requests-oauthlib>=0.7.0 (from google-auth-oauthlib<1.1,>=0.5->tensorboard<2.14,>=2.13->tensorflow-intel==2.13.0->tensorflow)\n",
      "  Using cached requests_oauthlib-1.3.1-py2.py3-none-any.whl (23 kB)\n",
      "Requirement already satisfied: importlib-metadata>=4.4 in c:\\users\\karar\\anaconda3\\envs\\tm_p39\\lib\\site-packages (from markdown>=2.6.8->tensorboard<2.14,>=2.13->tensorflow-intel==2.13.0->tensorflow) (6.0.0)\n",
      "Requirement already satisfied: charset-normalizer<4,>=2 in c:\\users\\karar\\anaconda3\\envs\\tm_p39\\lib\\site-packages (from requests<3,>=2.21.0->tensorboard<2.14,>=2.13->tensorflow-intel==2.13.0->tensorflow) (2.0.4)\n",
      "Requirement already satisfied: idna<4,>=2.5 in c:\\users\\karar\\anaconda3\\envs\\tm_p39\\lib\\site-packages (from requests<3,>=2.21.0->tensorboard<2.14,>=2.13->tensorflow-intel==2.13.0->tensorflow) (3.4)\n",
      "Requirement already satisfied: certifi>=2017.4.17 in c:\\users\\karar\\anaconda3\\envs\\tm_p39\\lib\\site-packages (from requests<3,>=2.21.0->tensorboard<2.14,>=2.13->tensorflow-intel==2.13.0->tensorflow) (2023.7.22)\n",
      "Requirement already satisfied: MarkupSafe>=2.1.1 in c:\\users\\karar\\anaconda3\\envs\\tm_p39\\lib\\site-packages (from werkzeug>=1.0.1->tensorboard<2.14,>=2.13->tensorflow-intel==2.13.0->tensorflow) (2.1.1)\n",
      "Requirement already satisfied: zipp>=0.5 in c:\\users\\karar\\anaconda3\\envs\\tm_p39\\lib\\site-packages (from importlib-metadata>=4.4->markdown>=2.6.8->tensorboard<2.14,>=2.13->tensorflow-intel==2.13.0->tensorflow) (3.11.0)\n",
      "Collecting pyasn1<0.6.0,>=0.4.6 (from pyasn1-modules>=0.2.1->google-auth<3,>=1.6.3->tensorboard<2.14,>=2.13->tensorflow-intel==2.13.0->tensorflow)\n",
      "  Using cached pyasn1-0.5.0-py2.py3-none-any.whl (83 kB)\n",
      "Collecting oauthlib>=3.0.0 (from requests-oauthlib>=0.7.0->google-auth-oauthlib<1.1,>=0.5->tensorboard<2.14,>=2.13->tensorflow-intel==2.13.0->tensorflow)\n",
      "  Using cached oauthlib-3.2.2-py3-none-any.whl (151 kB)\n",
      "Using cached tensorflow-2.13.0-cp39-cp39-win_amd64.whl (1.9 kB)\n",
      "Using cached tensorflow_intel-2.13.0-cp39-cp39-win_amd64.whl (276.5 MB)\n",
      "Using cached flatbuffers-23.5.26-py2.py3-none-any.whl (26 kB)\n",
      "Using cached grpcio-1.56.2-cp39-cp39-win_amd64.whl (4.2 MB)\n",
      "Using cached h5py-3.9.0-cp39-cp39-win_amd64.whl (2.7 MB)\n",
      "Using cached keras-2.13.1-py3-none-any.whl (1.7 MB)\n",
      "Using cached libclang-16.0.6-py2.py3-none-win_amd64.whl (24.4 MB)\n",
      "Using cached protobuf-4.23.4-cp39-cp39-win_amd64.whl (422 kB)\n",
      "Using cached tensorflow_estimator-2.13.0-py2.py3-none-any.whl (440 kB)\n",
      "Using cached google_auth-2.22.0-py2.py3-none-any.whl (181 kB)\n",
      "Using cached Markdown-3.4.4-py3-none-any.whl (94 kB)\n",
      "Using cached tensorboard_data_server-0.7.1-py3-none-any.whl (2.4 kB)\n",
      "Using cached Werkzeug-2.3.6-py3-none-any.whl (242 kB)\n",
      "Using cached cachetools-5.3.1-py3-none-any.whl (9.3 kB)\n",
      "Installing collected packages: libclang, flatbuffers, wrapt, werkzeug, typing-extensions, termcolor, tensorflow-io-gcs-filesystem, tensorflow-estimator, tensorboard-data-server, pyasn1, protobuf, oauthlib, numpy, keras, grpcio, google-pasta, gast, cachetools, astunparse, rsa, requests-oauthlib, pyasn1-modules, opt-einsum, markdown, h5py, google-auth, google-auth-oauthlib, tensorboard, tensorflow-intel, tensorflow\n",
      "  Attempting uninstall: typing-extensions\n",
      "    Found existing installation: typing_extensions 4.7.1\n",
      "    Uninstalling typing_extensions-4.7.1:\n",
      "      Successfully uninstalled typing_extensions-4.7.1\n",
      "Successfully installed astunparse-1.6.3 cachetools-5.3.1 flatbuffers-23.5.26 gast-0.4.0 google-auth-2.22.0 google-auth-oauthlib-1.0.0 google-pasta-0.2.0 grpcio-1.56.2 h5py-3.9.0 keras-2.13.1 libclang-16.0.6 markdown-3.4.4 numpy-1.24.3 oauthlib-3.2.2 opt-einsum-3.3.0 protobuf-4.23.4 pyasn1-0.5.0 pyasn1-modules-0.3.0 requests-oauthlib-1.3.1 rsa-4.9 tensorboard-2.13.0 tensorboard-data-server-0.7.1 tensorflow-2.13.0 tensorflow-estimator-2.13.0 tensorflow-intel-2.13.0 tensorflow-io-gcs-filesystem-0.31.0 termcolor-2.3.0 typing-extensions-4.5.0 werkzeug-2.3.6 wrapt-1.15.0\n",
      "Collecting tensorflow-hub\n",
      "  Obtaining dependency information for tensorflow-hub from https://files.pythonhosted.org/packages/30/78/9d5292a2b616901bdb075bbf0c777b293f4140bb48108ac2b33fd716c2eb/tensorflow_hub-0.14.0-py2.py3-none-any.whl.metadata\n",
      "  Using cached tensorflow_hub-0.14.0-py2.py3-none-any.whl.metadata (1.4 kB)\n",
      "Requirement already satisfied: numpy>=1.12.0 in c:\\users\\karar\\anaconda3\\envs\\tm_p39\\lib\\site-packages (from tensorflow-hub) (1.24.3)\n",
      "Requirement already satisfied: protobuf>=3.19.6 in c:\\users\\karar\\anaconda3\\envs\\tm_p39\\lib\\site-packages (from tensorflow-hub) (4.23.4)\n",
      "Using cached tensorflow_hub-0.14.0-py2.py3-none-any.whl (90 kB)\n",
      "Installing collected packages: tensorflow-hub\n",
      "Successfully installed tensorflow-hub-0.14.0\n",
      "Collecting seaborn\n",
      "  Using cached seaborn-0.12.2-py3-none-any.whl (293 kB)\n",
      "Requirement already satisfied: numpy!=1.24.0,>=1.17 in c:\\users\\karar\\anaconda3\\envs\\tm_p39\\lib\\site-packages (from seaborn) (1.24.3)\n",
      "Collecting pandas>=0.25 (from seaborn)\n",
      "  Obtaining dependency information for pandas>=0.25 from https://files.pythonhosted.org/packages/9a/f2/0ad053856debbe90c83de1b4f05915f85fd2146f20faf9daa3b320d36df3/pandas-2.0.3-cp39-cp39-win_amd64.whl.metadata\n",
      "  Using cached pandas-2.0.3-cp39-cp39-win_amd64.whl.metadata (18 kB)\n",
      "Collecting matplotlib!=3.6.1,>=3.1 (from seaborn)\n",
      "  Obtaining dependency information for matplotlib!=3.6.1,>=3.1 from https://files.pythonhosted.org/packages/c9/46/6cbaf20f5bd0e7c1d204b45b853c2cd317b303fada90245f2825ecca47de/matplotlib-3.7.2-cp39-cp39-win_amd64.whl.metadata\n",
      "  Using cached matplotlib-3.7.2-cp39-cp39-win_amd64.whl.metadata (5.8 kB)\n",
      "Collecting contourpy>=1.0.1 (from matplotlib!=3.6.1,>=3.1->seaborn)\n",
      "  Obtaining dependency information for contourpy>=1.0.1 from https://files.pythonhosted.org/packages/a5/d6/80258c2759bd34abe267b5d3bc6300f7105aa70181b99d531283f7e7c79e/contourpy-1.1.0-cp39-cp39-win_amd64.whl.metadata\n",
      "  Using cached contourpy-1.1.0-cp39-cp39-win_amd64.whl.metadata (5.7 kB)\n",
      "Collecting cycler>=0.10 (from matplotlib!=3.6.1,>=3.1->seaborn)\n",
      "  Using cached cycler-0.11.0-py3-none-any.whl (6.4 kB)\n",
      "Collecting fonttools>=4.22.0 (from matplotlib!=3.6.1,>=3.1->seaborn)\n",
      "  Obtaining dependency information for fonttools>=4.22.0 from https://files.pythonhosted.org/packages/cd/b1/8ba85c3d50562438d5991f5698d46b66dcadd43d230c7ba72edbd0c96ce8/fonttools-4.42.0-cp39-cp39-win_amd64.whl.metadata\n",
      "  Using cached fonttools-4.42.0-cp39-cp39-win_amd64.whl.metadata (153 kB)\n",
      "Collecting kiwisolver>=1.0.1 (from matplotlib!=3.6.1,>=3.1->seaborn)\n",
      "  Using cached kiwisolver-1.4.4-cp39-cp39-win_amd64.whl (55 kB)\n",
      "Requirement already satisfied: packaging>=20.0 in c:\\users\\karar\\anaconda3\\envs\\tm_p39\\lib\\site-packages (from matplotlib!=3.6.1,>=3.1->seaborn) (23.0)\n",
      "Collecting pillow>=6.2.0 (from matplotlib!=3.6.1,>=3.1->seaborn)\n",
      "  Obtaining dependency information for pillow>=6.2.0 from https://files.pythonhosted.org/packages/8f/b8/1bf1012eee3059d150194d1fab148f553f3df42cf412e4e6656c772afad9/Pillow-10.0.0-cp39-cp39-win_amd64.whl.metadata\n",
      "  Using cached Pillow-10.0.0-cp39-cp39-win_amd64.whl.metadata (9.6 kB)\n",
      "Collecting pyparsing<3.1,>=2.3.1 (from matplotlib!=3.6.1,>=3.1->seaborn)\n",
      "  Using cached pyparsing-3.0.9-py3-none-any.whl (98 kB)\n",
      "Requirement already satisfied: python-dateutil>=2.7 in c:\\users\\karar\\anaconda3\\envs\\tm_p39\\lib\\site-packages (from matplotlib!=3.6.1,>=3.1->seaborn) (2.8.2)\n",
      "Collecting importlib-resources>=3.2.0 (from matplotlib!=3.6.1,>=3.1->seaborn)\n",
      "  Obtaining dependency information for importlib-resources>=3.2.0 from https://files.pythonhosted.org/packages/29/d1/bed03eca30aa05aaf6e0873de091f9385c48705c4a607c2dfe3edbe543e8/importlib_resources-6.0.0-py3-none-any.whl.metadata\n",
      "  Using cached importlib_resources-6.0.0-py3-none-any.whl.metadata (4.2 kB)\n",
      "Requirement already satisfied: pytz>=2020.1 in c:\\users\\karar\\anaconda3\\envs\\tm_p39\\lib\\site-packages (from pandas>=0.25->seaborn) (2022.7)\n",
      "Collecting tzdata>=2022.1 (from pandas>=0.25->seaborn)\n",
      "  Using cached tzdata-2023.3-py2.py3-none-any.whl (341 kB)\n",
      "Requirement already satisfied: zipp>=3.1.0 in c:\\users\\karar\\anaconda3\\envs\\tm_p39\\lib\\site-packages (from importlib-resources>=3.2.0->matplotlib!=3.6.1,>=3.1->seaborn) (3.11.0)\n",
      "Requirement already satisfied: six>=1.5 in c:\\users\\karar\\anaconda3\\envs\\tm_p39\\lib\\site-packages (from python-dateutil>=2.7->matplotlib!=3.6.1,>=3.1->seaborn) (1.16.0)\n",
      "Using cached matplotlib-3.7.2-cp39-cp39-win_amd64.whl (7.5 MB)\n",
      "Using cached pandas-2.0.3-cp39-cp39-win_amd64.whl (10.8 MB)\n",
      "Using cached contourpy-1.1.0-cp39-cp39-win_amd64.whl (429 kB)\n",
      "Using cached fonttools-4.42.0-cp39-cp39-win_amd64.whl (2.1 MB)\n",
      "Using cached importlib_resources-6.0.0-py3-none-any.whl (31 kB)\n",
      "Using cached Pillow-10.0.0-cp39-cp39-win_amd64.whl (2.5 MB)\n",
      "Installing collected packages: tzdata, pyparsing, pillow, kiwisolver, importlib-resources, fonttools, cycler, contourpy, pandas, matplotlib, seaborn\n",
      "Successfully installed contourpy-1.1.0 cycler-0.11.0 fonttools-4.42.0 importlib-resources-6.0.0 kiwisolver-1.4.4 matplotlib-3.7.2 pandas-2.0.3 pillow-10.0.0 pyparsing-3.0.9 seaborn-0.12.2 tzdata-2023.3\n",
      "Collecting scikit-learn\n",
      "  Obtaining dependency information for scikit-learn from https://files.pythonhosted.org/packages/2d/30/3afb8bcb785653254eb646ff2680ec4d637b40b06f4b046aca17b5e086b0/scikit_learn-1.3.0-cp39-cp39-win_amd64.whl.metadata\n",
      "  Using cached scikit_learn-1.3.0-cp39-cp39-win_amd64.whl.metadata (11 kB)\n",
      "Requirement already satisfied: numpy>=1.17.3 in c:\\users\\karar\\anaconda3\\envs\\tm_p39\\lib\\site-packages (from scikit-learn) (1.24.3)\n",
      "Collecting scipy>=1.5.0 (from scikit-learn)\n",
      "  Obtaining dependency information for scipy>=1.5.0 from https://files.pythonhosted.org/packages/96/9b/10048be0c335327077af430c5a6637c0b9e7fe9121a8048836f1bb022a81/scipy-1.11.1-cp39-cp39-win_amd64.whl.metadata\n",
      "  Using cached scipy-1.11.1-cp39-cp39-win_amd64.whl.metadata (59 kB)\n",
      "Collecting joblib>=1.1.1 (from scikit-learn)\n",
      "  Obtaining dependency information for joblib>=1.1.1 from https://files.pythonhosted.org/packages/28/08/9dcdaa5aac4634e4c23af26d92121f7ce445c630efa0d3037881ae2407fb/joblib-1.3.1-py3-none-any.whl.metadata\n",
      "  Using cached joblib-1.3.1-py3-none-any.whl.metadata (5.4 kB)\n",
      "Collecting threadpoolctl>=2.0.0 (from scikit-learn)\n",
      "  Obtaining dependency information for threadpoolctl>=2.0.0 from https://files.pythonhosted.org/packages/81/12/fd4dea011af9d69e1cad05c75f3f7202cdcbeac9b712eea58ca779a72865/threadpoolctl-3.2.0-py3-none-any.whl.metadata\n",
      "  Using cached threadpoolctl-3.2.0-py3-none-any.whl.metadata (10.0 kB)\n",
      "Using cached scikit_learn-1.3.0-cp39-cp39-win_amd64.whl (9.3 MB)\n",
      "Using cached joblib-1.3.1-py3-none-any.whl (301 kB)\n",
      "Using cached scipy-1.11.1-cp39-cp39-win_amd64.whl (44.1 MB)\n",
      "Using cached threadpoolctl-3.2.0-py3-none-any.whl (15 kB)\n",
      "Installing collected packages: threadpoolctl, scipy, joblib, scikit-learn\n",
      "Successfully installed joblib-1.3.1 scikit-learn-1.3.0 scipy-1.11.1 threadpoolctl-3.2.0\n",
      "Collecting torch\n",
      "  Using cached torch-2.0.1-cp39-cp39-win_amd64.whl (172.4 MB)\n",
      "Collecting filelock (from torch)\n",
      "  Obtaining dependency information for filelock from https://files.pythonhosted.org/packages/00/45/ec3407adf6f6b5bf867a4462b2b0af27597a26bd3cd6e2534cb6ab029938/filelock-3.12.2-py3-none-any.whl.metadata\n",
      "  Using cached filelock-3.12.2-py3-none-any.whl.metadata (2.7 kB)\n",
      "Requirement already satisfied: typing-extensions in c:\\users\\karar\\anaconda3\\envs\\tm_p39\\lib\\site-packages (from torch) (4.5.0)\n",
      "Collecting sympy (from torch)\n",
      "  Using cached sympy-1.12-py3-none-any.whl (5.7 MB)\n",
      "Collecting networkx (from torch)\n",
      "  Using cached networkx-3.1-py3-none-any.whl (2.1 MB)\n",
      "Requirement already satisfied: jinja2 in c:\\users\\karar\\anaconda3\\envs\\tm_p39\\lib\\site-packages (from torch) (3.1.2)\n",
      "Requirement already satisfied: MarkupSafe>=2.0 in c:\\users\\karar\\anaconda3\\envs\\tm_p39\\lib\\site-packages (from jinja2->torch) (2.1.1)\n",
      "Collecting mpmath>=0.19 (from sympy->torch)\n",
      "  Using cached mpmath-1.3.0-py3-none-any.whl (536 kB)\n",
      "Using cached filelock-3.12.2-py3-none-any.whl (10 kB)\n",
      "Installing collected packages: mpmath, sympy, networkx, filelock, torch\n",
      "Successfully installed filelock-3.12.2 mpmath-1.3.0 networkx-3.1 sympy-1.12 torch-2.0.1\n",
      "Collecting transformers\n",
      "  Obtaining dependency information for transformers from https://files.pythonhosted.org/packages/21/02/ae8e595f45b6c8edee07913892b3b41f5f5f273962ad98851dc6a564bbb9/transformers-4.31.0-py3-none-any.whl.metadata\n",
      "  Using cached transformers-4.31.0-py3-none-any.whl.metadata (116 kB)\n",
      "Collecting datasets\n",
      "  Obtaining dependency information for datasets from https://files.pythonhosted.org/packages/25/55/ec0d602cec473f3857ca82c9f2ddbd5b8c4d1139debbf06e19aaff29f973/datasets-2.14.3-py3-none-any.whl.metadata\n",
      "  Using cached datasets-2.14.3-py3-none-any.whl.metadata (19 kB)\n",
      "Requirement already satisfied: filelock in c:\\users\\karar\\anaconda3\\envs\\tm_p39\\lib\\site-packages (from transformers) (3.12.2)\n",
      "Collecting huggingface-hub<1.0,>=0.14.1 (from transformers)\n",
      "  Obtaining dependency information for huggingface-hub<1.0,>=0.14.1 from https://files.pythonhosted.org/packages/7f/c4/adcbe9a696c135578cabcbdd7331332daad4d49b7c43688bc2d36b3a47d2/huggingface_hub-0.16.4-py3-none-any.whl.metadata\n",
      "  Using cached huggingface_hub-0.16.4-py3-none-any.whl.metadata (12 kB)\n",
      "Requirement already satisfied: numpy>=1.17 in c:\\users\\karar\\anaconda3\\envs\\tm_p39\\lib\\site-packages (from transformers) (1.24.3)\n",
      "Requirement already satisfied: packaging>=20.0 in c:\\users\\karar\\anaconda3\\envs\\tm_p39\\lib\\site-packages (from transformers) (23.0)\n",
      "Requirement already satisfied: pyyaml>=5.1 in c:\\users\\karar\\anaconda3\\envs\\tm_p39\\lib\\site-packages (from transformers) (6.0)\n",
      "Collecting regex!=2019.12.17 (from transformers)\n",
      "  Obtaining dependency information for regex!=2019.12.17 from https://files.pythonhosted.org/packages/8d/f2/dbefb119076d67172e032ef325dcfb56dad6bffa690035b3b962294e1946/regex-2023.6.3-cp39-cp39-win_amd64.whl.metadata\n",
      "  Using cached regex-2023.6.3-cp39-cp39-win_amd64.whl.metadata (41 kB)\n",
      "Requirement already satisfied: requests in c:\\users\\karar\\anaconda3\\envs\\tm_p39\\lib\\site-packages (from transformers) (2.31.0)\n",
      "Collecting tokenizers!=0.11.3,<0.14,>=0.11.1 (from transformers)\n",
      "  Using cached tokenizers-0.13.3-cp39-cp39-win_amd64.whl (3.5 MB)\n",
      "Collecting safetensors>=0.3.1 (from transformers)\n",
      "  Using cached safetensors-0.3.1-cp39-cp39-win_amd64.whl (263 kB)\n",
      "Collecting tqdm>=4.27 (from transformers)\n",
      "  Using cached tqdm-4.65.0-py3-none-any.whl (77 kB)\n",
      "Collecting pyarrow>=8.0.0 (from datasets)\n",
      "  Obtaining dependency information for pyarrow>=8.0.0 from https://files.pythonhosted.org/packages/dc/45/31441c988329afed625a791a7d78f1cf2fcb40dcc86a1d61e081287516a8/pyarrow-12.0.1-cp39-cp39-win_amd64.whl.metadata\n",
      "  Using cached pyarrow-12.0.1-cp39-cp39-win_amd64.whl.metadata (3.1 kB)\n",
      "Collecting dill<0.3.8,>=0.3.0 (from datasets)\n",
      "  Obtaining dependency information for dill<0.3.8,>=0.3.0 from https://files.pythonhosted.org/packages/f5/3a/74a29b11cf2cdfcd6ba89c0cecd70b37cd1ba7b77978ce611eb7a146a832/dill-0.3.7-py3-none-any.whl.metadata\n",
      "  Using cached dill-0.3.7-py3-none-any.whl.metadata (9.9 kB)\n",
      "Requirement already satisfied: pandas in c:\\users\\karar\\anaconda3\\envs\\tm_p39\\lib\\site-packages (from datasets) (2.0.3)\n",
      "Collecting xxhash (from datasets)\n",
      "  Obtaining dependency information for xxhash from https://files.pythonhosted.org/packages/30/25/ae5ede30b61e78d98cc0be2e94ad8a942ced11eafba0c2d2efe0db7647aa/xxhash-3.3.0-cp39-cp39-win_amd64.whl.metadata\n",
      "  Using cached xxhash-3.3.0-cp39-cp39-win_amd64.whl.metadata (12 kB)\n",
      "Collecting multiprocess (from datasets)\n",
      "  Obtaining dependency information for multiprocess from https://files.pythonhosted.org/packages/c6/c9/820b5ab056f4ada76fbe05bd481a948f287957d6cbfd59e2dd2618b408c1/multiprocess-0.70.15-py39-none-any.whl.metadata\n",
      "  Using cached multiprocess-0.70.15-py39-none-any.whl.metadata (7.2 kB)\n",
      "Collecting fsspec[http]>=2021.11.1 (from datasets)\n",
      "  Obtaining dependency information for fsspec[http]>=2021.11.1 from https://files.pythonhosted.org/packages/e3/bd/4c0a4619494188a9db5d77e2100ab7d544a42e76b2447869d8e124e981d8/fsspec-2023.6.0-py3-none-any.whl.metadata\n",
      "  Using cached fsspec-2023.6.0-py3-none-any.whl.metadata (6.7 kB)\n",
      "Collecting aiohttp (from datasets)\n",
      "  Obtaining dependency information for aiohttp from https://files.pythonhosted.org/packages/c2/7c/66aff492b444f0d089bd74ffcb7346ebc3521ba68c77ac5479a2b947091c/aiohttp-3.8.5-cp39-cp39-win_amd64.whl.metadata\n",
      "  Using cached aiohttp-3.8.5-cp39-cp39-win_amd64.whl.metadata (8.0 kB)\n",
      "Requirement already satisfied: attrs>=17.3.0 in c:\\users\\karar\\anaconda3\\envs\\tm_p39\\lib\\site-packages (from aiohttp->datasets) (22.1.0)\n",
      "Requirement already satisfied: charset-normalizer<4.0,>=2.0 in c:\\users\\karar\\anaconda3\\envs\\tm_p39\\lib\\site-packages (from aiohttp->datasets) (2.0.4)\n",
      "Collecting multidict<7.0,>=4.5 (from aiohttp->datasets)\n",
      "  Using cached multidict-6.0.4-cp39-cp39-win_amd64.whl (28 kB)\n",
      "Collecting async-timeout<5.0,>=4.0.0a3 (from aiohttp->datasets)\n",
      "  Using cached async_timeout-4.0.2-py3-none-any.whl (5.8 kB)\n",
      "Collecting yarl<2.0,>=1.0 (from aiohttp->datasets)\n",
      "  Using cached yarl-1.9.2-cp39-cp39-win_amd64.whl (61 kB)\n",
      "Collecting frozenlist>=1.1.1 (from aiohttp->datasets)\n",
      "  Obtaining dependency information for frozenlist>=1.1.1 from https://files.pythonhosted.org/packages/f9/16/ef36f5b20ee10dba86d4b5223d55b416e97dfa2dbf5546f0c6d9aa8a26ba/frozenlist-1.4.0-cp39-cp39-win_amd64.whl.metadata\n",
      "  Using cached frozenlist-1.4.0-cp39-cp39-win_amd64.whl.metadata (5.3 kB)\n",
      "Collecting aiosignal>=1.1.2 (from aiohttp->datasets)\n",
      "  Using cached aiosignal-1.3.1-py3-none-any.whl (7.6 kB)\n",
      "Requirement already satisfied: typing-extensions>=3.7.4.3 in c:\\users\\karar\\anaconda3\\envs\\tm_p39\\lib\\site-packages (from huggingface-hub<1.0,>=0.14.1->transformers) (4.5.0)\n",
      "Requirement already satisfied: idna<4,>=2.5 in c:\\users\\karar\\anaconda3\\envs\\tm_p39\\lib\\site-packages (from requests->transformers) (3.4)\n",
      "Requirement already satisfied: urllib3<3,>=1.21.1 in c:\\users\\karar\\anaconda3\\envs\\tm_p39\\lib\\site-packages (from requests->transformers) (1.26.16)\n",
      "Requirement already satisfied: certifi>=2017.4.17 in c:\\users\\karar\\anaconda3\\envs\\tm_p39\\lib\\site-packages (from requests->transformers) (2023.7.22)\n",
      "Requirement already satisfied: colorama in c:\\users\\karar\\anaconda3\\envs\\tm_p39\\lib\\site-packages (from tqdm>=4.27->transformers) (0.4.6)\n",
      "Requirement already satisfied: python-dateutil>=2.8.2 in c:\\users\\karar\\anaconda3\\envs\\tm_p39\\lib\\site-packages (from pandas->datasets) (2.8.2)\n",
      "Requirement already satisfied: pytz>=2020.1 in c:\\users\\karar\\anaconda3\\envs\\tm_p39\\lib\\site-packages (from pandas->datasets) (2022.7)\n",
      "Requirement already satisfied: tzdata>=2022.1 in c:\\users\\karar\\anaconda3\\envs\\tm_p39\\lib\\site-packages (from pandas->datasets) (2023.3)\n",
      "Requirement already satisfied: six>=1.5 in c:\\users\\karar\\anaconda3\\envs\\tm_p39\\lib\\site-packages (from python-dateutil>=2.8.2->pandas->datasets) (1.16.0)\n",
      "Using cached transformers-4.31.0-py3-none-any.whl (7.4 MB)\n",
      "Using cached datasets-2.14.3-py3-none-any.whl (519 kB)\n",
      "Using cached dill-0.3.7-py3-none-any.whl (115 kB)\n",
      "Using cached aiohttp-3.8.5-cp39-cp39-win_amd64.whl (327 kB)\n",
      "Using cached huggingface_hub-0.16.4-py3-none-any.whl (268 kB)\n",
      "Using cached pyarrow-12.0.1-cp39-cp39-win_amd64.whl (21.5 MB)\n",
      "Using cached regex-2023.6.3-cp39-cp39-win_amd64.whl (268 kB)\n",
      "Using cached multiprocess-0.70.15-py39-none-any.whl (133 kB)\n",
      "Using cached xxhash-3.3.0-cp39-cp39-win_amd64.whl (29 kB)\n",
      "Using cached frozenlist-1.4.0-cp39-cp39-win_amd64.whl (44 kB)\n",
      "Using cached fsspec-2023.6.0-py3-none-any.whl (163 kB)\n",
      "Installing collected packages: tokenizers, safetensors, xxhash, tqdm, regex, pyarrow, multidict, fsspec, frozenlist, dill, async-timeout, yarl, multiprocess, huggingface-hub, aiosignal, transformers, aiohttp, datasets\n",
      "Successfully installed aiohttp-3.8.5 aiosignal-1.3.1 async-timeout-4.0.2 datasets-2.14.3 dill-0.3.7 frozenlist-1.4.0 fsspec-2023.6.0 huggingface-hub-0.16.4 multidict-6.0.4 multiprocess-0.70.15 pyarrow-12.0.1 regex-2023.6.3 safetensors-0.3.1 tokenizers-0.13.3 tqdm-4.65.0 transformers-4.31.0 xxhash-3.3.0 yarl-1.9.2\n"
     ]
    }
   ],
   "source": [
    "# tensorflow packages\n",
    "!pip install absl-py\n",
    "!pip install tensorflow\n",
    "!pip install tensorflow-hub\n",
    "# seaborn\n",
    "!pip install seaborn\n",
    "# ML\n",
    "!pip install scikit-learn\n",
    "# Facebook's pytorch\n",
    "!pip install torch\n",
    "# Hugging face\n",
    "!pip install transformers datasets"
   ]
  },
  {
   "cell_type": "code",
   "execution_count": 1,
   "outputs": [],
   "source": [
    "# Normal packages\n",
    "import pandas as pd\n",
    "import matplotlib.pyplot as plt\n",
    "import numpy as np\n",
    "import os\n",
    "import pandas as pd\n",
    "import re\n",
    "import seaborn as sns\n",
    "\n",
    "# Deep learning\n",
    "from absl import logging\n",
    "import tensorflow as tf\n",
    "import tensorflow_hub as hub\n",
    "\n",
    "# Hugging Face\n",
    "from transformers import pipeline\n",
    "\n",
    "# Scikit-learn\n",
    "from sklearn.cluster import KMeans\n",
    "\n",
    "# NLP\n",
    "from nltk import word_tokenize\n",
    "from nltk.corpus import stopwords\n",
    "import nltk"
   ],
   "metadata": {
    "collapsed": false,
    "ExecuteTime": {
     "end_time": "2023-08-07T15:32:52.946004600Z",
     "start_time": "2023-08-07T15:32:39.542044300Z"
    }
   },
   "id": "4209cadb1c0f2276"
  },
  {
   "cell_type": "code",
   "execution_count": null,
   "outputs": [],
   "source": [
    "'''Download some nltk required data opening conda prompt; run the below commands in the prompt as alternative'''\n",
    "nltk.download('punkt')\n",
    "nltk.download('stopwords')"
   ],
   "metadata": {
    "collapsed": false
   },
   "id": "2de6e3b62ad8d7dc"
  },
  {
   "cell_type": "markdown",
   "source": [
    ">>> nltk.download('punkt')\n",
    "[nltk_data] Downloading package punkt to\n",
    "[nltk_data]     C:\\Users\\karar\\AppData\\Roaming\\nltk_data...\n",
    "[nltk_data]   Unzipping tokenizers\\punkt.zip.\n",
    "True\n",
    ">>> nltk.download('stopwords')\n",
    "[nltk_data] Downloading package stopwords to\n",
    "[nltk_data]     C:\\Users\\karar\\AppData\\Roaming\\nltk_data...\n",
    "[nltk_data]   Unzipping corpora\\stopwords.zip.\n",
    "True"
   ],
   "metadata": {
    "collapsed": false
   },
   "id": "7519e99c6964b8f4"
  },
  {
   "cell_type": "code",
   "execution_count": 2,
   "outputs": [],
   "source": [
    "# Universal sentence encoder (from Google)\n",
    "USE_encoder = hub.load(\"https://tfhub.dev/google/universal-sentence-encoder/4\")\n",
    "\n",
    "# Function to use USE encoder\n",
    "def embed(input):\n",
    "    return np.array(USE_encoder(input))"
   ],
   "metadata": {
    "collapsed": false,
    "ExecuteTime": {
     "end_time": "2023-08-07T15:47:48.740302100Z",
     "start_time": "2023-08-07T15:47:34.370349600Z"
    }
   },
   "id": "70179d7cfcbb0a1a"
  },
  {
   "cell_type": "code",
   "execution_count": 3,
   "outputs": [
    {
     "name": "stderr",
     "output_type": "stream",
     "text": [
      "No model was supplied, defaulted to distilbert-base-uncased-finetuned-sst-2-english and revision af0f99b (https://huggingface.co/distilbert-base-uncased-finetuned-sst-2-english).\n",
      "Using a pipeline without specifying a model name and revision in production is not recommended.\n",
      "Xformers is not installed correctly. If you want to use memory_efficient_attention to accelerate training use the following command to install Xformers\n",
      "pip install xformers.\n"
     ]
    }
   ],
   "source": [
    "\n",
    "# Get sentiment model from hugging face platform\n",
    "\n",
    "sentiment_model = pipeline(\"sentiment-analysis\")"
   ],
   "metadata": {
    "collapsed": false,
    "ExecuteTime": {
     "end_time": "2023-08-07T15:47:57.248145700Z",
     "start_time": "2023-08-07T15:47:48.737302500Z"
    }
   },
   "id": "8b997e71765af2fc"
  },
  {
   "cell_type": "code",
   "execution_count": 4,
   "outputs": [],
   "source": [
    "def sentiment(input):\n",
    "    result = sentiment_model(input[:512])\n",
    "    sign = 1 if(result[0]['label']==\"POSITIVE\") else -1\n",
    "    value = result[0]['score']\n",
    "    return sign*value"
   ],
   "metadata": {
    "collapsed": false,
    "ExecuteTime": {
     "end_time": "2023-08-07T15:47:57.264137700Z",
     "start_time": "2023-08-07T15:47:57.253143900Z"
    }
   },
   "id": "c2280a6b07d6ca88"
  },
  {
   "cell_type": "markdown",
   "source": [
    "Load The Data"
   ],
   "metadata": {
    "collapsed": false
   },
   "id": "5ae13e5f1ece7b49"
  },
  {
   "cell_type": "code",
   "execution_count": 5,
   "outputs": [
    {
     "data": {
      "text/plain": "(3107, 9)"
     },
     "execution_count": 5,
     "metadata": {},
     "output_type": "execute_result"
    }
   ],
   "source": [
    "df = pd.read_csv(\"drugLibTrain_raw.tsv\", sep=\"\\t\")\n",
    "\n",
    "df.shape"
   ],
   "metadata": {
    "collapsed": false,
    "ExecuteTime": {
     "end_time": "2023-08-07T15:48:07.127642100Z",
     "start_time": "2023-08-07T15:48:06.981717300Z"
    }
   },
   "id": "ef5ccd060bd546ab"
  },
  {
   "cell_type": "code",
   "execution_count": 6,
   "outputs": [
    {
     "data": {
      "text/plain": "      Unnamed: 0 urlDrugName  rating           effectiveness  \\\n1177        3047    seroquel       9        Highly Effective   \n1207         106    celebrex       8  Considerably Effective   \n362           44   norpramin       6    Moderately Effective   \n253         2945     mirapex      10        Highly Effective   \n2695        1258    provigil      10  Considerably Effective   \n41          1762     topamax       6        Highly Effective   \n1028        4019      celexa       8        Highly Effective   \n2310         115    celebrex      10        Highly Effective   \n1129         270    ditropan       1    Moderately Effective   \n1791        1130      evista       3             Ineffective   \n\n                sideEffects                           condition  \\\n1177      Mild Side Effects                    bipolar disorder   \n1207        No Side Effects                                pain   \n362       Mild Side Effects                            migraine   \n253         No Side Effects              restless legs syndrome   \n2695        No Side Effects  fatigue from rheumatoid arthiritis   \n41        Mild Side Effects           seizures,migraines,fibro.   \n1028  Moderate Side Effects                          depression   \n2310        No Side Effects              hip flexor & back pain   \n1129    Severe Side Effects                       hyperhidrosis   \n1791  Moderate Side Effects                        osteoporosis   \n\n                                         benefitsReview  \\\n1177  Manic episodes have been minimised! Although h...   \n1207  I am an athlete, tennis pro and avid golfer. I...   \n362                                   no a.m. headaches   \n253   My legs used to jump pretty badly and so did m...   \n2695  I was able to function until later in the day,...   \n41    To stop with the migraines, seizures and pain ...   \n1028  I had fewer swings in my mood. I felt down les...   \n2310  I feel like a new person. I've had an MRI and ...   \n1129  stopped sweating, but the drying effect brough...   \n1791  I couldn't stay on it long enought to know if ...   \n\n                                      sideEffectsReview  \\\n1177  After an hour of taking Seroquel, if it hasn't...   \n1207  So far I have experienced no side effects. I h...   \n362                                     mild drowsiness   \n253   I've heard that some people turn into gamblers...   \n2695  none, but since it is a brand name drug, my co...   \n41    alittle weight loss but I was thin already the...   \n1028  I felt sleepy all the time. I was not alert at...   \n2310                                              NONE.   \n1129  very dry thoat and eyes, dry mouth, burning se...   \n1791  I soon started having blurred vision, then ext...   \n\n                                         commentsReview  \n1177                                    mood stabiliser  \n1207  I have been taking Celebrex now for over five ...  \n362   took away morning headaches until I was able t...  \n253   I take a .25mg tablet every a.m. and then arou...  \n2695  I was diagnosed with RA in April 07 after 2 ye...  \n41    take two 100 mgs tablets in am when I was give...  \n1028  I was prescribed this medication by a doctor. ...  \n2310                            Took a pill. Swallowed.  \n1129  the drug is not to treat hyperhidrosis, but it...  \n1791  One 60 mg. pill per day.  I increased my calci...  ",
      "text/html": "<div>\n<style scoped>\n    .dataframe tbody tr th:only-of-type {\n        vertical-align: middle;\n    }\n\n    .dataframe tbody tr th {\n        vertical-align: top;\n    }\n\n    .dataframe thead th {\n        text-align: right;\n    }\n</style>\n<table border=\"1\" class=\"dataframe\">\n  <thead>\n    <tr style=\"text-align: right;\">\n      <th></th>\n      <th>Unnamed: 0</th>\n      <th>urlDrugName</th>\n      <th>rating</th>\n      <th>effectiveness</th>\n      <th>sideEffects</th>\n      <th>condition</th>\n      <th>benefitsReview</th>\n      <th>sideEffectsReview</th>\n      <th>commentsReview</th>\n    </tr>\n  </thead>\n  <tbody>\n    <tr>\n      <th>1177</th>\n      <td>3047</td>\n      <td>seroquel</td>\n      <td>9</td>\n      <td>Highly Effective</td>\n      <td>Mild Side Effects</td>\n      <td>bipolar disorder</td>\n      <td>Manic episodes have been minimised! Although h...</td>\n      <td>After an hour of taking Seroquel, if it hasn't...</td>\n      <td>mood stabiliser</td>\n    </tr>\n    <tr>\n      <th>1207</th>\n      <td>106</td>\n      <td>celebrex</td>\n      <td>8</td>\n      <td>Considerably Effective</td>\n      <td>No Side Effects</td>\n      <td>pain</td>\n      <td>I am an athlete, tennis pro and avid golfer. I...</td>\n      <td>So far I have experienced no side effects. I h...</td>\n      <td>I have been taking Celebrex now for over five ...</td>\n    </tr>\n    <tr>\n      <th>362</th>\n      <td>44</td>\n      <td>norpramin</td>\n      <td>6</td>\n      <td>Moderately Effective</td>\n      <td>Mild Side Effects</td>\n      <td>migraine</td>\n      <td>no a.m. headaches</td>\n      <td>mild drowsiness</td>\n      <td>took away morning headaches until I was able t...</td>\n    </tr>\n    <tr>\n      <th>253</th>\n      <td>2945</td>\n      <td>mirapex</td>\n      <td>10</td>\n      <td>Highly Effective</td>\n      <td>No Side Effects</td>\n      <td>restless legs syndrome</td>\n      <td>My legs used to jump pretty badly and so did m...</td>\n      <td>I've heard that some people turn into gamblers...</td>\n      <td>I take a .25mg tablet every a.m. and then arou...</td>\n    </tr>\n    <tr>\n      <th>2695</th>\n      <td>1258</td>\n      <td>provigil</td>\n      <td>10</td>\n      <td>Considerably Effective</td>\n      <td>No Side Effects</td>\n      <td>fatigue from rheumatoid arthiritis</td>\n      <td>I was able to function until later in the day,...</td>\n      <td>none, but since it is a brand name drug, my co...</td>\n      <td>I was diagnosed with RA in April 07 after 2 ye...</td>\n    </tr>\n    <tr>\n      <th>41</th>\n      <td>1762</td>\n      <td>topamax</td>\n      <td>6</td>\n      <td>Highly Effective</td>\n      <td>Mild Side Effects</td>\n      <td>seizures,migraines,fibro.</td>\n      <td>To stop with the migraines, seizures and pain ...</td>\n      <td>alittle weight loss but I was thin already the...</td>\n      <td>take two 100 mgs tablets in am when I was give...</td>\n    </tr>\n    <tr>\n      <th>1028</th>\n      <td>4019</td>\n      <td>celexa</td>\n      <td>8</td>\n      <td>Highly Effective</td>\n      <td>Moderate Side Effects</td>\n      <td>depression</td>\n      <td>I had fewer swings in my mood. I felt down les...</td>\n      <td>I felt sleepy all the time. I was not alert at...</td>\n      <td>I was prescribed this medication by a doctor. ...</td>\n    </tr>\n    <tr>\n      <th>2310</th>\n      <td>115</td>\n      <td>celebrex</td>\n      <td>10</td>\n      <td>Highly Effective</td>\n      <td>No Side Effects</td>\n      <td>hip flexor &amp; back pain</td>\n      <td>I feel like a new person. I've had an MRI and ...</td>\n      <td>NONE.</td>\n      <td>Took a pill. Swallowed.</td>\n    </tr>\n    <tr>\n      <th>1129</th>\n      <td>270</td>\n      <td>ditropan</td>\n      <td>1</td>\n      <td>Moderately Effective</td>\n      <td>Severe Side Effects</td>\n      <td>hyperhidrosis</td>\n      <td>stopped sweating, but the drying effect brough...</td>\n      <td>very dry thoat and eyes, dry mouth, burning se...</td>\n      <td>the drug is not to treat hyperhidrosis, but it...</td>\n    </tr>\n    <tr>\n      <th>1791</th>\n      <td>1130</td>\n      <td>evista</td>\n      <td>3</td>\n      <td>Ineffective</td>\n      <td>Moderate Side Effects</td>\n      <td>osteoporosis</td>\n      <td>I couldn't stay on it long enought to know if ...</td>\n      <td>I soon started having blurred vision, then ext...</td>\n      <td>One 60 mg. pill per day.  I increased my calci...</td>\n    </tr>\n  </tbody>\n</table>\n</div>"
     },
     "execution_count": 6,
     "metadata": {},
     "output_type": "execute_result"
    }
   ],
   "source": [
    "df.sample(10)"
   ],
   "metadata": {
    "collapsed": false,
    "ExecuteTime": {
     "end_time": "2023-08-07T15:48:10.986980400Z",
     "start_time": "2023-08-07T15:48:10.934015Z"
    }
   },
   "id": "84e64ebd7f2223c8"
  },
  {
   "cell_type": "code",
   "execution_count": 7,
   "outputs": [],
   "source": [
    "# Look at only the side effects\n",
    "sideEffectsReviews = df['sideEffectsReview'].dropna().tolist()"
   ],
   "metadata": {
    "collapsed": false,
    "ExecuteTime": {
     "end_time": "2023-08-07T15:49:38.861646800Z",
     "start_time": "2023-08-07T15:49:38.795686700Z"
    }
   },
   "id": "3ba9d2069949332"
  },
  {
   "cell_type": "markdown",
   "source": [
    "Create topic model"
   ],
   "metadata": {
    "collapsed": false
   },
   "id": "ffc2e1df4d6714c3"
  },
  {
   "cell_type": "code",
   "execution_count": 36,
   "outputs": [],
   "source": [
    "class ReviewsTopicModel:\n",
    "\n",
    "    STOPWORDS = stopwords.words('english') # stopwords from ntlk\n",
    "\n",
    "    EMBEDDING_DIM = 512 # USE encoder\n",
    "\n",
    "    # Constructor\n",
    "    def __init__(self, reviews):\n",
    "        self.X = self.clean(reviews)\n",
    "\n",
    "    # Clean text method\n",
    "    def clean(self, reviews):\n",
    "        # Words to replace\n",
    "        string_map = {'\\r': '', '\\n': '', '/': ' ', \"'\": \"\", '\"': ''}\n",
    "        reviews_cleaned = reviews[:]\n",
    "        for i in range(len(reviews_cleaned)):\n",
    "            for s in string_map:\n",
    "                reviews_cleaned[i] = reviews_cleaned[i].replace(s, string_map[s]).lower() \n",
    "        # Transform the reviews into embeddings dataframe\n",
    "        X = embed(reviews_cleaned)\n",
    "        X = pd.DataFrame(X)\n",
    "        X.index = reviews_cleaned\n",
    "        return X\n",
    "\n",
    "    # Method to determine number of topics (a.k.a kmeans cluster number)\n",
    "    def elbow_plot(self):\n",
    "        cluster_sizes = list(range(1, 81))\n",
    "        cluster_scores = []\n",
    "        for n in cluster_sizes:\n",
    "            kmeans = KMeans(n_clusters=n)\n",
    "            kmeans.fit(self.X)\n",
    "            cluster_scores.append(kmeans.inertia_)\n",
    "        plt.figure()\n",
    "        plt.plot(cluster_sizes, cluster_scores)\n",
    "        plt.show()\n",
    "\n",
    "    # Method to extract topics from text data\n",
    "    def create_topics(self, num_topics):\n",
    "        # Cluster the reviews\n",
    "        kmeans = KMeans(n_clusters=num_topics)\n",
    "        kmeans.fit(self.X)\n",
    "\n",
    "        # Create the final topics dataframe\n",
    "        topics_df = self.X.copy()\n",
    "        topics_df['topic'] = kmeans.labels_.copy()\n",
    "        topics_df['topic'] = topics_df['topic'].astype(int)\n",
    "\n",
    "        # Create summary keywords per topic\n",
    "        topic_keywords = {}\n",
    "        for topic in topics_df['topic'].unique():\n",
    "            topic_reviews = topics_df.query(\"topic == {}\".format(topic)).index.tolist()\n",
    "            topic_centroid = kmeans.cluster_centers_[topic] # cluster center\n",
    "            topic_keywords[topic] = self.get_closest_words(topic_reviews, topic_centroid)\n",
    "        topics_df['topic_keywords'] = topics_df['topic'].map(topic_keywords)\n",
    "\n",
    "        # Score the sentiment of each review\n",
    "        topics_df['sentiment'] = [sentiment(r) for r in topics_df.index.values.tolist()]\n",
    "\n",
    "        # Final result\n",
    "        self.topics_keywords = topic_keywords\n",
    "        self.topics_df = topics_df.copy()[['topic', 'topic_keywords', 'sentiment']]\n",
    "\n",
    "\n",
    "    def get_closest_words(self, reviews, centroid):\n",
    "        word_distances = {}\n",
    "        for r in reviews:\n",
    "            review_words = [w for w in word_tokenize(r) if(w not in self.STOPWORDS)]\n",
    "            for w in review_words:\n",
    "                word_embedding = embed([w]) # return 512 dimensional vector for the word 'w'\n",
    "                # how similar is the word embedding to the topic's centroid (avg of the cluster sample's embeddings)\n",
    "                word_distances[w] = self.cosine_similarity(word_embedding, centroid) # 1 it means match, closer to 0 means different\n",
    "        # done collecting the distances of the words to the topic's center\n",
    "        top_5_keywords = sorted([(word_distances[w], w) for w in word_distances])[-5:]\n",
    "        return \",\".join([x[1] for x in top_5_keywords])\n",
    "\n",
    "    def cosine_similarity(self, x, y):\n",
    "        # x,y are both the appropriate dimension\n",
    "        x = x.reshape(self.EMBEDDING_DIM,)\n",
    "        y = y.reshape(self.EMBEDDING_DIM,)\n",
    "        # calculate cosine similarity\n",
    "        dotproduct = x.dot(y)\n",
    "        x_mag = x.dot(x)**0.5\n",
    "        y_mag = y.dot(y)**0.5\n",
    "        # returns closer to 1 if x and y are similar, closer to 0 if they are different\n",
    "        return dotproduct/(x_mag * y_mag)"
   ],
   "metadata": {
    "collapsed": false,
    "ExecuteTime": {
     "end_time": "2023-08-07T18:39:00.541366800Z",
     "start_time": "2023-08-07T18:39:00.507387600Z"
    }
   },
   "id": "be46fe7fc04ba661"
  },
  {
   "cell_type": "markdown",
   "source": [
    "Initialize model"
   ],
   "metadata": {
    "collapsed": false
   },
   "id": "2b757cb7a3549683"
  },
  {
   "cell_type": "code",
   "execution_count": 37,
   "outputs": [],
   "source": [
    "topic_model = ReviewsTopicModel(sideEffectsReviews)"
   ],
   "metadata": {
    "collapsed": false,
    "ExecuteTime": {
     "end_time": "2023-08-07T18:39:15.621533100Z",
     "start_time": "2023-08-07T18:39:13.153629300Z"
    }
   },
   "id": "b5d95868e22413bc"
  },
  {
   "cell_type": "code",
   "execution_count": 20,
   "outputs": [
    {
     "name": "stderr",
     "output_type": "stream",
     "text": [
      "C:\\Users\\karar\\anaconda3\\envs\\tm_p39\\lib\\site-packages\\sklearn\\cluster\\_kmeans.py:1412: FutureWarning: The default value of `n_init` will change from 10 to 'auto' in 1.4. Set the value of `n_init` explicitly to suppress the warning\n",
      "  super()._check_params_vs_input(X, default_n_init=10)\n",
      "C:\\Users\\karar\\anaconda3\\envs\\tm_p39\\lib\\site-packages\\sklearn\\cluster\\_kmeans.py:1412: FutureWarning: The default value of `n_init` will change from 10 to 'auto' in 1.4. Set the value of `n_init` explicitly to suppress the warning\n",
      "  super()._check_params_vs_input(X, default_n_init=10)\n",
      "C:\\Users\\karar\\anaconda3\\envs\\tm_p39\\lib\\site-packages\\sklearn\\cluster\\_kmeans.py:1412: FutureWarning: The default value of `n_init` will change from 10 to 'auto' in 1.4. Set the value of `n_init` explicitly to suppress the warning\n",
      "  super()._check_params_vs_input(X, default_n_init=10)\n",
      "C:\\Users\\karar\\anaconda3\\envs\\tm_p39\\lib\\site-packages\\sklearn\\cluster\\_kmeans.py:1412: FutureWarning: The default value of `n_init` will change from 10 to 'auto' in 1.4. Set the value of `n_init` explicitly to suppress the warning\n",
      "  super()._check_params_vs_input(X, default_n_init=10)\n",
      "C:\\Users\\karar\\anaconda3\\envs\\tm_p39\\lib\\site-packages\\sklearn\\cluster\\_kmeans.py:1412: FutureWarning: The default value of `n_init` will change from 10 to 'auto' in 1.4. Set the value of `n_init` explicitly to suppress the warning\n",
      "  super()._check_params_vs_input(X, default_n_init=10)\n",
      "C:\\Users\\karar\\anaconda3\\envs\\tm_p39\\lib\\site-packages\\sklearn\\cluster\\_kmeans.py:1412: FutureWarning: The default value of `n_init` will change from 10 to 'auto' in 1.4. Set the value of `n_init` explicitly to suppress the warning\n",
      "  super()._check_params_vs_input(X, default_n_init=10)\n",
      "C:\\Users\\karar\\anaconda3\\envs\\tm_p39\\lib\\site-packages\\sklearn\\cluster\\_kmeans.py:1412: FutureWarning: The default value of `n_init` will change from 10 to 'auto' in 1.4. Set the value of `n_init` explicitly to suppress the warning\n",
      "  super()._check_params_vs_input(X, default_n_init=10)\n",
      "C:\\Users\\karar\\anaconda3\\envs\\tm_p39\\lib\\site-packages\\sklearn\\cluster\\_kmeans.py:1412: FutureWarning: The default value of `n_init` will change from 10 to 'auto' in 1.4. Set the value of `n_init` explicitly to suppress the warning\n",
      "  super()._check_params_vs_input(X, default_n_init=10)\n",
      "C:\\Users\\karar\\anaconda3\\envs\\tm_p39\\lib\\site-packages\\sklearn\\cluster\\_kmeans.py:1412: FutureWarning: The default value of `n_init` will change from 10 to 'auto' in 1.4. Set the value of `n_init` explicitly to suppress the warning\n",
      "  super()._check_params_vs_input(X, default_n_init=10)\n",
      "C:\\Users\\karar\\anaconda3\\envs\\tm_p39\\lib\\site-packages\\sklearn\\cluster\\_kmeans.py:1412: FutureWarning: The default value of `n_init` will change from 10 to 'auto' in 1.4. Set the value of `n_init` explicitly to suppress the warning\n",
      "  super()._check_params_vs_input(X, default_n_init=10)\n",
      "C:\\Users\\karar\\anaconda3\\envs\\tm_p39\\lib\\site-packages\\sklearn\\cluster\\_kmeans.py:1412: FutureWarning: The default value of `n_init` will change from 10 to 'auto' in 1.4. Set the value of `n_init` explicitly to suppress the warning\n",
      "  super()._check_params_vs_input(X, default_n_init=10)\n",
      "C:\\Users\\karar\\anaconda3\\envs\\tm_p39\\lib\\site-packages\\sklearn\\cluster\\_kmeans.py:1412: FutureWarning: The default value of `n_init` will change from 10 to 'auto' in 1.4. Set the value of `n_init` explicitly to suppress the warning\n",
      "  super()._check_params_vs_input(X, default_n_init=10)\n",
      "C:\\Users\\karar\\anaconda3\\envs\\tm_p39\\lib\\site-packages\\sklearn\\cluster\\_kmeans.py:1412: FutureWarning: The default value of `n_init` will change from 10 to 'auto' in 1.4. Set the value of `n_init` explicitly to suppress the warning\n",
      "  super()._check_params_vs_input(X, default_n_init=10)\n",
      "C:\\Users\\karar\\anaconda3\\envs\\tm_p39\\lib\\site-packages\\sklearn\\cluster\\_kmeans.py:1412: FutureWarning: The default value of `n_init` will change from 10 to 'auto' in 1.4. Set the value of `n_init` explicitly to suppress the warning\n",
      "  super()._check_params_vs_input(X, default_n_init=10)\n",
      "C:\\Users\\karar\\anaconda3\\envs\\tm_p39\\lib\\site-packages\\sklearn\\cluster\\_kmeans.py:1412: FutureWarning: The default value of `n_init` will change from 10 to 'auto' in 1.4. Set the value of `n_init` explicitly to suppress the warning\n",
      "  super()._check_params_vs_input(X, default_n_init=10)\n",
      "C:\\Users\\karar\\anaconda3\\envs\\tm_p39\\lib\\site-packages\\sklearn\\cluster\\_kmeans.py:1412: FutureWarning: The default value of `n_init` will change from 10 to 'auto' in 1.4. Set the value of `n_init` explicitly to suppress the warning\n",
      "  super()._check_params_vs_input(X, default_n_init=10)\n",
      "C:\\Users\\karar\\anaconda3\\envs\\tm_p39\\lib\\site-packages\\sklearn\\cluster\\_kmeans.py:1412: FutureWarning: The default value of `n_init` will change from 10 to 'auto' in 1.4. Set the value of `n_init` explicitly to suppress the warning\n",
      "  super()._check_params_vs_input(X, default_n_init=10)\n",
      "C:\\Users\\karar\\anaconda3\\envs\\tm_p39\\lib\\site-packages\\sklearn\\cluster\\_kmeans.py:1412: FutureWarning: The default value of `n_init` will change from 10 to 'auto' in 1.4. Set the value of `n_init` explicitly to suppress the warning\n",
      "  super()._check_params_vs_input(X, default_n_init=10)\n",
      "C:\\Users\\karar\\anaconda3\\envs\\tm_p39\\lib\\site-packages\\sklearn\\cluster\\_kmeans.py:1412: FutureWarning: The default value of `n_init` will change from 10 to 'auto' in 1.4. Set the value of `n_init` explicitly to suppress the warning\n",
      "  super()._check_params_vs_input(X, default_n_init=10)\n",
      "C:\\Users\\karar\\anaconda3\\envs\\tm_p39\\lib\\site-packages\\sklearn\\cluster\\_kmeans.py:1412: FutureWarning: The default value of `n_init` will change from 10 to 'auto' in 1.4. Set the value of `n_init` explicitly to suppress the warning\n",
      "  super()._check_params_vs_input(X, default_n_init=10)\n",
      "C:\\Users\\karar\\anaconda3\\envs\\tm_p39\\lib\\site-packages\\sklearn\\cluster\\_kmeans.py:1412: FutureWarning: The default value of `n_init` will change from 10 to 'auto' in 1.4. Set the value of `n_init` explicitly to suppress the warning\n",
      "  super()._check_params_vs_input(X, default_n_init=10)\n",
      "C:\\Users\\karar\\anaconda3\\envs\\tm_p39\\lib\\site-packages\\sklearn\\cluster\\_kmeans.py:1412: FutureWarning: The default value of `n_init` will change from 10 to 'auto' in 1.4. Set the value of `n_init` explicitly to suppress the warning\n",
      "  super()._check_params_vs_input(X, default_n_init=10)\n",
      "C:\\Users\\karar\\anaconda3\\envs\\tm_p39\\lib\\site-packages\\sklearn\\cluster\\_kmeans.py:1412: FutureWarning: The default value of `n_init` will change from 10 to 'auto' in 1.4. Set the value of `n_init` explicitly to suppress the warning\n",
      "  super()._check_params_vs_input(X, default_n_init=10)\n",
      "C:\\Users\\karar\\anaconda3\\envs\\tm_p39\\lib\\site-packages\\sklearn\\cluster\\_kmeans.py:1412: FutureWarning: The default value of `n_init` will change from 10 to 'auto' in 1.4. Set the value of `n_init` explicitly to suppress the warning\n",
      "  super()._check_params_vs_input(X, default_n_init=10)\n",
      "C:\\Users\\karar\\anaconda3\\envs\\tm_p39\\lib\\site-packages\\sklearn\\cluster\\_kmeans.py:1412: FutureWarning: The default value of `n_init` will change from 10 to 'auto' in 1.4. Set the value of `n_init` explicitly to suppress the warning\n",
      "  super()._check_params_vs_input(X, default_n_init=10)\n",
      "C:\\Users\\karar\\anaconda3\\envs\\tm_p39\\lib\\site-packages\\sklearn\\cluster\\_kmeans.py:1412: FutureWarning: The default value of `n_init` will change from 10 to 'auto' in 1.4. Set the value of `n_init` explicitly to suppress the warning\n",
      "  super()._check_params_vs_input(X, default_n_init=10)\n",
      "C:\\Users\\karar\\anaconda3\\envs\\tm_p39\\lib\\site-packages\\sklearn\\cluster\\_kmeans.py:1412: FutureWarning: The default value of `n_init` will change from 10 to 'auto' in 1.4. Set the value of `n_init` explicitly to suppress the warning\n",
      "  super()._check_params_vs_input(X, default_n_init=10)\n",
      "C:\\Users\\karar\\anaconda3\\envs\\tm_p39\\lib\\site-packages\\sklearn\\cluster\\_kmeans.py:1412: FutureWarning: The default value of `n_init` will change from 10 to 'auto' in 1.4. Set the value of `n_init` explicitly to suppress the warning\n",
      "  super()._check_params_vs_input(X, default_n_init=10)\n",
      "C:\\Users\\karar\\anaconda3\\envs\\tm_p39\\lib\\site-packages\\sklearn\\cluster\\_kmeans.py:1412: FutureWarning: The default value of `n_init` will change from 10 to 'auto' in 1.4. Set the value of `n_init` explicitly to suppress the warning\n",
      "  super()._check_params_vs_input(X, default_n_init=10)\n",
      "C:\\Users\\karar\\anaconda3\\envs\\tm_p39\\lib\\site-packages\\sklearn\\cluster\\_kmeans.py:1412: FutureWarning: The default value of `n_init` will change from 10 to 'auto' in 1.4. Set the value of `n_init` explicitly to suppress the warning\n",
      "  super()._check_params_vs_input(X, default_n_init=10)\n",
      "C:\\Users\\karar\\anaconda3\\envs\\tm_p39\\lib\\site-packages\\sklearn\\cluster\\_kmeans.py:1412: FutureWarning: The default value of `n_init` will change from 10 to 'auto' in 1.4. Set the value of `n_init` explicitly to suppress the warning\n",
      "  super()._check_params_vs_input(X, default_n_init=10)\n",
      "C:\\Users\\karar\\anaconda3\\envs\\tm_p39\\lib\\site-packages\\sklearn\\cluster\\_kmeans.py:1412: FutureWarning: The default value of `n_init` will change from 10 to 'auto' in 1.4. Set the value of `n_init` explicitly to suppress the warning\n",
      "  super()._check_params_vs_input(X, default_n_init=10)\n",
      "C:\\Users\\karar\\anaconda3\\envs\\tm_p39\\lib\\site-packages\\sklearn\\cluster\\_kmeans.py:1412: FutureWarning: The default value of `n_init` will change from 10 to 'auto' in 1.4. Set the value of `n_init` explicitly to suppress the warning\n",
      "  super()._check_params_vs_input(X, default_n_init=10)\n",
      "C:\\Users\\karar\\anaconda3\\envs\\tm_p39\\lib\\site-packages\\sklearn\\cluster\\_kmeans.py:1412: FutureWarning: The default value of `n_init` will change from 10 to 'auto' in 1.4. Set the value of `n_init` explicitly to suppress the warning\n",
      "  super()._check_params_vs_input(X, default_n_init=10)\n",
      "C:\\Users\\karar\\anaconda3\\envs\\tm_p39\\lib\\site-packages\\sklearn\\cluster\\_kmeans.py:1412: FutureWarning: The default value of `n_init` will change from 10 to 'auto' in 1.4. Set the value of `n_init` explicitly to suppress the warning\n",
      "  super()._check_params_vs_input(X, default_n_init=10)\n",
      "C:\\Users\\karar\\anaconda3\\envs\\tm_p39\\lib\\site-packages\\sklearn\\cluster\\_kmeans.py:1412: FutureWarning: The default value of `n_init` will change from 10 to 'auto' in 1.4. Set the value of `n_init` explicitly to suppress the warning\n",
      "  super()._check_params_vs_input(X, default_n_init=10)\n",
      "C:\\Users\\karar\\anaconda3\\envs\\tm_p39\\lib\\site-packages\\sklearn\\cluster\\_kmeans.py:1412: FutureWarning: The default value of `n_init` will change from 10 to 'auto' in 1.4. Set the value of `n_init` explicitly to suppress the warning\n",
      "  super()._check_params_vs_input(X, default_n_init=10)\n",
      "C:\\Users\\karar\\anaconda3\\envs\\tm_p39\\lib\\site-packages\\sklearn\\cluster\\_kmeans.py:1412: FutureWarning: The default value of `n_init` will change from 10 to 'auto' in 1.4. Set the value of `n_init` explicitly to suppress the warning\n",
      "  super()._check_params_vs_input(X, default_n_init=10)\n",
      "C:\\Users\\karar\\anaconda3\\envs\\tm_p39\\lib\\site-packages\\sklearn\\cluster\\_kmeans.py:1412: FutureWarning: The default value of `n_init` will change from 10 to 'auto' in 1.4. Set the value of `n_init` explicitly to suppress the warning\n",
      "  super()._check_params_vs_input(X, default_n_init=10)\n",
      "C:\\Users\\karar\\anaconda3\\envs\\tm_p39\\lib\\site-packages\\sklearn\\cluster\\_kmeans.py:1412: FutureWarning: The default value of `n_init` will change from 10 to 'auto' in 1.4. Set the value of `n_init` explicitly to suppress the warning\n",
      "  super()._check_params_vs_input(X, default_n_init=10)\n",
      "C:\\Users\\karar\\anaconda3\\envs\\tm_p39\\lib\\site-packages\\sklearn\\cluster\\_kmeans.py:1412: FutureWarning: The default value of `n_init` will change from 10 to 'auto' in 1.4. Set the value of `n_init` explicitly to suppress the warning\n",
      "  super()._check_params_vs_input(X, default_n_init=10)\n",
      "C:\\Users\\karar\\anaconda3\\envs\\tm_p39\\lib\\site-packages\\sklearn\\cluster\\_kmeans.py:1412: FutureWarning: The default value of `n_init` will change from 10 to 'auto' in 1.4. Set the value of `n_init` explicitly to suppress the warning\n",
      "  super()._check_params_vs_input(X, default_n_init=10)\n",
      "C:\\Users\\karar\\anaconda3\\envs\\tm_p39\\lib\\site-packages\\sklearn\\cluster\\_kmeans.py:1412: FutureWarning: The default value of `n_init` will change from 10 to 'auto' in 1.4. Set the value of `n_init` explicitly to suppress the warning\n",
      "  super()._check_params_vs_input(X, default_n_init=10)\n",
      "C:\\Users\\karar\\anaconda3\\envs\\tm_p39\\lib\\site-packages\\sklearn\\cluster\\_kmeans.py:1412: FutureWarning: The default value of `n_init` will change from 10 to 'auto' in 1.4. Set the value of `n_init` explicitly to suppress the warning\n",
      "  super()._check_params_vs_input(X, default_n_init=10)\n",
      "C:\\Users\\karar\\anaconda3\\envs\\tm_p39\\lib\\site-packages\\sklearn\\cluster\\_kmeans.py:1412: FutureWarning: The default value of `n_init` will change from 10 to 'auto' in 1.4. Set the value of `n_init` explicitly to suppress the warning\n",
      "  super()._check_params_vs_input(X, default_n_init=10)\n",
      "C:\\Users\\karar\\anaconda3\\envs\\tm_p39\\lib\\site-packages\\sklearn\\cluster\\_kmeans.py:1412: FutureWarning: The default value of `n_init` will change from 10 to 'auto' in 1.4. Set the value of `n_init` explicitly to suppress the warning\n",
      "  super()._check_params_vs_input(X, default_n_init=10)\n",
      "C:\\Users\\karar\\anaconda3\\envs\\tm_p39\\lib\\site-packages\\sklearn\\cluster\\_kmeans.py:1412: FutureWarning: The default value of `n_init` will change from 10 to 'auto' in 1.4. Set the value of `n_init` explicitly to suppress the warning\n",
      "  super()._check_params_vs_input(X, default_n_init=10)\n",
      "C:\\Users\\karar\\anaconda3\\envs\\tm_p39\\lib\\site-packages\\sklearn\\cluster\\_kmeans.py:1412: FutureWarning: The default value of `n_init` will change from 10 to 'auto' in 1.4. Set the value of `n_init` explicitly to suppress the warning\n",
      "  super()._check_params_vs_input(X, default_n_init=10)\n",
      "C:\\Users\\karar\\anaconda3\\envs\\tm_p39\\lib\\site-packages\\sklearn\\cluster\\_kmeans.py:1412: FutureWarning: The default value of `n_init` will change from 10 to 'auto' in 1.4. Set the value of `n_init` explicitly to suppress the warning\n",
      "  super()._check_params_vs_input(X, default_n_init=10)\n",
      "C:\\Users\\karar\\anaconda3\\envs\\tm_p39\\lib\\site-packages\\sklearn\\cluster\\_kmeans.py:1412: FutureWarning: The default value of `n_init` will change from 10 to 'auto' in 1.4. Set the value of `n_init` explicitly to suppress the warning\n",
      "  super()._check_params_vs_input(X, default_n_init=10)\n",
      "C:\\Users\\karar\\anaconda3\\envs\\tm_p39\\lib\\site-packages\\sklearn\\cluster\\_kmeans.py:1412: FutureWarning: The default value of `n_init` will change from 10 to 'auto' in 1.4. Set the value of `n_init` explicitly to suppress the warning\n",
      "  super()._check_params_vs_input(X, default_n_init=10)\n",
      "C:\\Users\\karar\\anaconda3\\envs\\tm_p39\\lib\\site-packages\\sklearn\\cluster\\_kmeans.py:1412: FutureWarning: The default value of `n_init` will change from 10 to 'auto' in 1.4. Set the value of `n_init` explicitly to suppress the warning\n",
      "  super()._check_params_vs_input(X, default_n_init=10)\n",
      "C:\\Users\\karar\\anaconda3\\envs\\tm_p39\\lib\\site-packages\\sklearn\\cluster\\_kmeans.py:1412: FutureWarning: The default value of `n_init` will change from 10 to 'auto' in 1.4. Set the value of `n_init` explicitly to suppress the warning\n",
      "  super()._check_params_vs_input(X, default_n_init=10)\n",
      "C:\\Users\\karar\\anaconda3\\envs\\tm_p39\\lib\\site-packages\\sklearn\\cluster\\_kmeans.py:1412: FutureWarning: The default value of `n_init` will change from 10 to 'auto' in 1.4. Set the value of `n_init` explicitly to suppress the warning\n",
      "  super()._check_params_vs_input(X, default_n_init=10)\n",
      "C:\\Users\\karar\\anaconda3\\envs\\tm_p39\\lib\\site-packages\\sklearn\\cluster\\_kmeans.py:1412: FutureWarning: The default value of `n_init` will change from 10 to 'auto' in 1.4. Set the value of `n_init` explicitly to suppress the warning\n",
      "  super()._check_params_vs_input(X, default_n_init=10)\n",
      "C:\\Users\\karar\\anaconda3\\envs\\tm_p39\\lib\\site-packages\\sklearn\\cluster\\_kmeans.py:1412: FutureWarning: The default value of `n_init` will change from 10 to 'auto' in 1.4. Set the value of `n_init` explicitly to suppress the warning\n",
      "  super()._check_params_vs_input(X, default_n_init=10)\n",
      "C:\\Users\\karar\\anaconda3\\envs\\tm_p39\\lib\\site-packages\\sklearn\\cluster\\_kmeans.py:1412: FutureWarning: The default value of `n_init` will change from 10 to 'auto' in 1.4. Set the value of `n_init` explicitly to suppress the warning\n",
      "  super()._check_params_vs_input(X, default_n_init=10)\n",
      "C:\\Users\\karar\\anaconda3\\envs\\tm_p39\\lib\\site-packages\\sklearn\\cluster\\_kmeans.py:1412: FutureWarning: The default value of `n_init` will change from 10 to 'auto' in 1.4. Set the value of `n_init` explicitly to suppress the warning\n",
      "  super()._check_params_vs_input(X, default_n_init=10)\n",
      "C:\\Users\\karar\\anaconda3\\envs\\tm_p39\\lib\\site-packages\\sklearn\\cluster\\_kmeans.py:1412: FutureWarning: The default value of `n_init` will change from 10 to 'auto' in 1.4. Set the value of `n_init` explicitly to suppress the warning\n",
      "  super()._check_params_vs_input(X, default_n_init=10)\n",
      "C:\\Users\\karar\\anaconda3\\envs\\tm_p39\\lib\\site-packages\\sklearn\\cluster\\_kmeans.py:1412: FutureWarning: The default value of `n_init` will change from 10 to 'auto' in 1.4. Set the value of `n_init` explicitly to suppress the warning\n",
      "  super()._check_params_vs_input(X, default_n_init=10)\n",
      "C:\\Users\\karar\\anaconda3\\envs\\tm_p39\\lib\\site-packages\\sklearn\\cluster\\_kmeans.py:1412: FutureWarning: The default value of `n_init` will change from 10 to 'auto' in 1.4. Set the value of `n_init` explicitly to suppress the warning\n",
      "  super()._check_params_vs_input(X, default_n_init=10)\n",
      "C:\\Users\\karar\\anaconda3\\envs\\tm_p39\\lib\\site-packages\\sklearn\\cluster\\_kmeans.py:1412: FutureWarning: The default value of `n_init` will change from 10 to 'auto' in 1.4. Set the value of `n_init` explicitly to suppress the warning\n",
      "  super()._check_params_vs_input(X, default_n_init=10)\n",
      "C:\\Users\\karar\\anaconda3\\envs\\tm_p39\\lib\\site-packages\\sklearn\\cluster\\_kmeans.py:1412: FutureWarning: The default value of `n_init` will change from 10 to 'auto' in 1.4. Set the value of `n_init` explicitly to suppress the warning\n",
      "  super()._check_params_vs_input(X, default_n_init=10)\n",
      "C:\\Users\\karar\\anaconda3\\envs\\tm_p39\\lib\\site-packages\\sklearn\\cluster\\_kmeans.py:1412: FutureWarning: The default value of `n_init` will change from 10 to 'auto' in 1.4. Set the value of `n_init` explicitly to suppress the warning\n",
      "  super()._check_params_vs_input(X, default_n_init=10)\n",
      "C:\\Users\\karar\\anaconda3\\envs\\tm_p39\\lib\\site-packages\\sklearn\\cluster\\_kmeans.py:1412: FutureWarning: The default value of `n_init` will change from 10 to 'auto' in 1.4. Set the value of `n_init` explicitly to suppress the warning\n",
      "  super()._check_params_vs_input(X, default_n_init=10)\n",
      "C:\\Users\\karar\\anaconda3\\envs\\tm_p39\\lib\\site-packages\\sklearn\\cluster\\_kmeans.py:1412: FutureWarning: The default value of `n_init` will change from 10 to 'auto' in 1.4. Set the value of `n_init` explicitly to suppress the warning\n",
      "  super()._check_params_vs_input(X, default_n_init=10)\n",
      "C:\\Users\\karar\\anaconda3\\envs\\tm_p39\\lib\\site-packages\\sklearn\\cluster\\_kmeans.py:1412: FutureWarning: The default value of `n_init` will change from 10 to 'auto' in 1.4. Set the value of `n_init` explicitly to suppress the warning\n",
      "  super()._check_params_vs_input(X, default_n_init=10)\n",
      "C:\\Users\\karar\\anaconda3\\envs\\tm_p39\\lib\\site-packages\\sklearn\\cluster\\_kmeans.py:1412: FutureWarning: The default value of `n_init` will change from 10 to 'auto' in 1.4. Set the value of `n_init` explicitly to suppress the warning\n",
      "  super()._check_params_vs_input(X, default_n_init=10)\n",
      "C:\\Users\\karar\\anaconda3\\envs\\tm_p39\\lib\\site-packages\\sklearn\\cluster\\_kmeans.py:1412: FutureWarning: The default value of `n_init` will change from 10 to 'auto' in 1.4. Set the value of `n_init` explicitly to suppress the warning\n",
      "  super()._check_params_vs_input(X, default_n_init=10)\n",
      "C:\\Users\\karar\\anaconda3\\envs\\tm_p39\\lib\\site-packages\\sklearn\\cluster\\_kmeans.py:1412: FutureWarning: The default value of `n_init` will change from 10 to 'auto' in 1.4. Set the value of `n_init` explicitly to suppress the warning\n",
      "  super()._check_params_vs_input(X, default_n_init=10)\n",
      "C:\\Users\\karar\\anaconda3\\envs\\tm_p39\\lib\\site-packages\\sklearn\\cluster\\_kmeans.py:1412: FutureWarning: The default value of `n_init` will change from 10 to 'auto' in 1.4. Set the value of `n_init` explicitly to suppress the warning\n",
      "  super()._check_params_vs_input(X, default_n_init=10)\n",
      "C:\\Users\\karar\\anaconda3\\envs\\tm_p39\\lib\\site-packages\\sklearn\\cluster\\_kmeans.py:1412: FutureWarning: The default value of `n_init` will change from 10 to 'auto' in 1.4. Set the value of `n_init` explicitly to suppress the warning\n",
      "  super()._check_params_vs_input(X, default_n_init=10)\n",
      "C:\\Users\\karar\\anaconda3\\envs\\tm_p39\\lib\\site-packages\\sklearn\\cluster\\_kmeans.py:1412: FutureWarning: The default value of `n_init` will change from 10 to 'auto' in 1.4. Set the value of `n_init` explicitly to suppress the warning\n",
      "  super()._check_params_vs_input(X, default_n_init=10)\n",
      "C:\\Users\\karar\\anaconda3\\envs\\tm_p39\\lib\\site-packages\\sklearn\\cluster\\_kmeans.py:1412: FutureWarning: The default value of `n_init` will change from 10 to 'auto' in 1.4. Set the value of `n_init` explicitly to suppress the warning\n",
      "  super()._check_params_vs_input(X, default_n_init=10)\n",
      "C:\\Users\\karar\\anaconda3\\envs\\tm_p39\\lib\\site-packages\\sklearn\\cluster\\_kmeans.py:1412: FutureWarning: The default value of `n_init` will change from 10 to 'auto' in 1.4. Set the value of `n_init` explicitly to suppress the warning\n",
      "  super()._check_params_vs_input(X, default_n_init=10)\n",
      "C:\\Users\\karar\\anaconda3\\envs\\tm_p39\\lib\\site-packages\\sklearn\\cluster\\_kmeans.py:1412: FutureWarning: The default value of `n_init` will change from 10 to 'auto' in 1.4. Set the value of `n_init` explicitly to suppress the warning\n",
      "  super()._check_params_vs_input(X, default_n_init=10)\n",
      "C:\\Users\\karar\\anaconda3\\envs\\tm_p39\\lib\\site-packages\\sklearn\\cluster\\_kmeans.py:1412: FutureWarning: The default value of `n_init` will change from 10 to 'auto' in 1.4. Set the value of `n_init` explicitly to suppress the warning\n",
      "  super()._check_params_vs_input(X, default_n_init=10)\n",
      "C:\\Users\\karar\\anaconda3\\envs\\tm_p39\\lib\\site-packages\\sklearn\\cluster\\_kmeans.py:1412: FutureWarning: The default value of `n_init` will change from 10 to 'auto' in 1.4. Set the value of `n_init` explicitly to suppress the warning\n",
      "  super()._check_params_vs_input(X, default_n_init=10)\n",
      "C:\\Users\\karar\\anaconda3\\envs\\tm_p39\\lib\\site-packages\\sklearn\\cluster\\_kmeans.py:1412: FutureWarning: The default value of `n_init` will change from 10 to 'auto' in 1.4. Set the value of `n_init` explicitly to suppress the warning\n",
      "  super()._check_params_vs_input(X, default_n_init=10)\n",
      "C:\\Users\\karar\\anaconda3\\envs\\tm_p39\\lib\\site-packages\\sklearn\\cluster\\_kmeans.py:1412: FutureWarning: The default value of `n_init` will change from 10 to 'auto' in 1.4. Set the value of `n_init` explicitly to suppress the warning\n",
      "  super()._check_params_vs_input(X, default_n_init=10)\n"
     ]
    },
    {
     "data": {
      "text/plain": "<Figure size 640x480 with 1 Axes>",
      "image/png": "[encoded data removed]"
     },
     "metadata": {},
     "output_type": "display_data"
    }
   ],
   "source": [
    "topic_model.elbow_plot() # going to use 40 clusters i.e. 40 topics"
   ],
   "metadata": {
    "collapsed": false,
    "ExecuteTime": {
     "end_time": "2023-08-07T17:55:18.142065100Z",
     "start_time": "2023-08-07T17:48:08.570015500Z"
    }
   },
   "id": "a708aaeb5f5f9764"
  },
  {
   "cell_type": "markdown",
   "source": [
    "Create final model and evaluate"
   ],
   "metadata": {
    "collapsed": false
   },
   "id": "7ad5eb8ed12f2a82"
  },
  {
   "cell_type": "code",
   "execution_count": 38,
   "outputs": [
    {
     "name": "stderr",
     "output_type": "stream",
     "text": [
      "C:\\Users\\karar\\anaconda3\\envs\\tm_p39\\lib\\site-packages\\sklearn\\cluster\\_kmeans.py:1412: FutureWarning: The default value of `n_init` will change from 10 to 'auto' in 1.4. Set the value of `n_init` explicitly to suppress the warning\n",
      "  super()._check_params_vs_input(X, default_n_init=10)\n"
     ]
    }
   ],
   "source": [
    "topic_model.create_topics(num_topics=40)"
   ],
   "metadata": {
    "collapsed": false,
    "ExecuteTime": {
     "end_time": "2023-08-07T18:47:57.561971700Z",
     "start_time": "2023-08-07T18:39:51.489564300Z"
    }
   },
   "id": "690de9f135b32a3d"
  },
  {
   "cell_type": "code",
   "execution_count": 39,
   "outputs": [
    {
     "data": {
      "text/plain": "                                                    topic  \\\nno side effects while on drug.  super bad side ...      5   \ni had no side effects.  some people think the u...      5   \nthere were no side effects associated with the ...      5   \nnothing noticeable.  soluble tablet has a sligh...      5   \nno real side effects except infections (which t...      5   \n...                                                   ...   \ni did not experience any side effects. again, i...      5   \ni have not had any side effects, not even the h...      5   \nnone at all for me.  i have tolerated this medi...      5   \ni dont believe i had any side effects.  i know ...      5   \nnone - i took accutane and it changed my life f...      5   \n\n                                                                            topic_keywords  \\\nno side effects while on drug.  super bad side ...  5mg,nsaid,accutane,effets,side-effects   \ni had no side effects.  some people think the u...  5mg,nsaid,accutane,effets,side-effects   \nthere were no side effects associated with the ...  5mg,nsaid,accutane,effets,side-effects   \nnothing noticeable.  soluble tablet has a sligh...  5mg,nsaid,accutane,effets,side-effects   \nno real side effects except infections (which t...  5mg,nsaid,accutane,effets,side-effects   \n...                                                                                    ...   \ni did not experience any side effects. again, i...  5mg,nsaid,accutane,effets,side-effects   \ni have not had any side effects, not even the h...  5mg,nsaid,accutane,effets,side-effects   \nnone at all for me.  i have tolerated this medi...  5mg,nsaid,accutane,effets,side-effects   \ni dont believe i had any side effects.  i know ...  5mg,nsaid,accutane,effets,side-effects   \nnone - i took accutane and it changed my life f...  5mg,nsaid,accutane,effets,side-effects   \n\n                                                    sentiment  \nno side effects while on drug.  super bad side ...  -0.997506  \ni had no side effects.  some people think the u...  -0.994292  \nthere were no side effects associated with the ...  -0.998825  \nnothing noticeable.  soluble tablet has a sligh...  -0.998706  \nno real side effects except infections (which t...  -0.999654  \n...                                                       ...  \ni did not experience any side effects. again, i...  -0.993704  \ni have not had any side effects, not even the h...  -0.995435  \nnone at all for me.  i have tolerated this medi...   0.991003  \ni dont believe i had any side effects.  i know ...   0.998661  \nnone - i took accutane and it changed my life f...  -0.981642  \n\n[137 rows x 3 columns]",
      "text/html": "<div>\n<style scoped>\n    .dataframe tbody tr th:only-of-type {\n        vertical-align: middle;\n    }\n\n    .dataframe tbody tr th {\n        vertical-align: top;\n    }\n\n    .dataframe thead th {\n        text-align: right;\n    }\n</style>\n<table border=\"1\" class=\"dataframe\">\n  <thead>\n    <tr style=\"text-align: right;\">\n      <th></th>\n      <th>topic</th>\n      <th>topic_keywords</th>\n      <th>sentiment</th>\n    </tr>\n  </thead>\n  <tbody>\n    <tr>\n      <th>no side effects while on drug.  super bad side effects while going off the drug.  google searched it.  lots of people with the same symptoms.  read up before you start it.</th>\n      <td>5</td>\n      <td>5mg,nsaid,accutane,effets,side-effects</td>\n      <td>-0.997506</td>\n    </tr>\n    <tr>\n      <th>i had no side effects.  some people think the ulcerated scabby areas are side effects, but this is what the cream is designed to do, make bad cells react and destruct.</th>\n      <td>5</td>\n      <td>5mg,nsaid,accutane,effets,side-effects</td>\n      <td>-0.994292</td>\n    </tr>\n    <tr>\n      <th>there were no side effects associated with the drug. the doctor mentioned it would make birth control ineffective but had no confirmation of that.</th>\n      <td>5</td>\n      <td>5mg,nsaid,accutane,effets,side-effects</td>\n      <td>-0.998825</td>\n    </tr>\n    <tr>\n      <th>nothing noticeable.  soluble tablet has a slightly unpleasant aftertaste.  unknown if my vitamin b12 levels have been affected.</th>\n      <td>5</td>\n      <td>5mg,nsaid,accutane,effets,side-effects</td>\n      <td>-0.998706</td>\n    </tr>\n    <tr>\n      <th>no real side effects except infections (which the doctor said was normal???).</th>\n      <td>5</td>\n      <td>5mg,nsaid,accutane,effets,side-effects</td>\n      <td>-0.999654</td>\n    </tr>\n    <tr>\n      <th>...</th>\n      <td>...</td>\n      <td>...</td>\n      <td>...</td>\n    </tr>\n    <tr>\n      <th>i did not experience any side effects. again, i have taken this antibiotic before and had postive results.</th>\n      <td>5</td>\n      <td>5mg,nsaid,accutane,effets,side-effects</td>\n      <td>-0.993704</td>\n    </tr>\n    <tr>\n      <th>i have not had any side effects, not even the heartburn that is the most common one.</th>\n      <td>5</td>\n      <td>5mg,nsaid,accutane,effets,side-effects</td>\n      <td>-0.995435</td>\n    </tr>\n    <tr>\n      <th>none at all for me.  i have tolerated this medication very well.</th>\n      <td>5</td>\n      <td>5mg,nsaid,accutane,effets,side-effects</td>\n      <td>0.991003</td>\n    </tr>\n    <tr>\n      <th>i dont believe i had any side effects.  i know protonix just like nexium can be an addictive medicine simply because it work so well.  some people seem to have minor side effects, but i am in great health and in good shape and i did not seem to have any side effects from using protonix.</th>\n      <td>5</td>\n      <td>5mg,nsaid,accutane,effets,side-effects</td>\n      <td>0.998661</td>\n    </tr>\n    <tr>\n      <th>none - i took accutane and it changed my life for the better...ive had none of these side effects that are sometimes reported. my nephew and best friend also took accutane and couldnt be any happier with the results...im not depressed, i dont have joint pains or headaches or whatever else is being reported...</th>\n      <td>5</td>\n      <td>5mg,nsaid,accutane,effets,side-effects</td>\n      <td>-0.981642</td>\n    </tr>\n  </tbody>\n</table>\n<p>137 rows × 3 columns</p>\n</div>"
     },
     "execution_count": 39,
     "metadata": {},
     "output_type": "execute_result"
    }
   ],
   "source": [
    "topic_model.topics_df.query(\"topic == 5\")"
   ],
   "metadata": {
    "collapsed": false,
    "ExecuteTime": {
     "end_time": "2023-08-07T18:48:06.199461300Z",
     "start_time": "2023-08-07T18:48:06.165608400Z"
    }
   },
   "id": "30224688cc86fb4c"
  }
 ],
 "metadata": {
  "kernelspec": {
   "display_name": "Python 3",
   "language": "python",
   "name": "python3"
  },
  "language_info": {
   "codemirror_mode": {
    "name": "ipython",
    "version": 2
   },
   "file_extension": ".py",
   "mimetype": "text/x-python",
   "name": "python",
   "nbconvert_exporter": "python",
   "pygments_lexer": "ipython2",
   "version": "2.7.6"
  }
 },
 "nbformat": 4,
 "nbformat_minor": 5
}
